{
 "cells": [
  {
   "cell_type": "code",
   "execution_count": 40,
   "metadata": {},
   "outputs": [
    {
     "name": "stdout",
     "output_type": "stream",
     "text": [
      "       math score  reading score  writing score\n",
      "count  1000.00000    1000.000000    1000.000000\n",
      "mean     66.08900      69.169000      68.054000\n",
      "std      15.16308      14.600192      15.195657\n",
      "min       0.00000      17.000000      10.000000\n",
      "25%      57.00000      59.000000      57.750000\n",
      "50%      66.00000      70.000000      69.000000\n",
      "75%      77.00000      79.000000      79.000000\n",
      "max     100.00000     100.000000     100.000000\n",
      "- - - - - - - - - - - - - - - - - - - - - - - - - - - - - - - \n"
     ]
    },
    {
     "data": {
      "image/png": "[encoded data removed]",
      "text/plain": [
       "<Figure size 432x288 with 1 Axes>"
      ]
     },
     "metadata": {
      "needs_background": "light"
     },
     "output_type": "display_data"
    },
    {
     "name": "stdout",
     "output_type": "stream",
     "text": [
      "- - - - - - - - - - - - - - - - - - - - - - - - - - - - - - - \n",
      "Percentage of students who study in high school in relation to the total data: 37.5 %\n",
      "- - - - - - - - - - - - - - - - - - - - - - - - - - - - - - - \n",
      "gender: False\n",
      "race/ethnicity: False\n",
      "parental level of education: False\n",
      "lunch: False\n",
      "test preparation course: False\n",
      "math score: False\n",
      "reading score: False\n",
      "writing score: False\n",
      "- - - - - - - - - - - - - - - - - - - - - - - - - - - - - - - \n",
      "- - - - - - - - - - - - - - - - - - - - - - - - - - - - - - - \n",
      "- - - - - - - - - - - - - - - - - - - - - - - - - - - - - - - \n",
      "     gender ethnicity parental level of education         lunch  \\\n",
      "0    female   group B           bachelor's degree      standard   \n",
      "1    female   group C                some college      standard   \n",
      "2    female   group B             master's degree      standard   \n",
      "3      male   group A          associate's degree  free/reduced   \n",
      "4      male   group C                some college      standard   \n",
      "..      ...       ...                         ...           ...   \n",
      "995  female   group E             master's degree      standard   \n",
      "996    male   group C                 high school  free/reduced   \n",
      "997  female   group C                 high school  free/reduced   \n",
      "998  female   group D                some college      standard   \n",
      "999  female   group D                some college  free/reduced   \n",
      "\n",
      "    test preparation course  math score  reading score  writing score  \n",
      "0                      none          72             72             74  \n",
      "1                 completed          69             90             88  \n",
      "2                      none          90             95             93  \n",
      "3                      none          47             57             44  \n",
      "4                      none          76             78             75  \n",
      "..                      ...         ...            ...            ...  \n",
      "995               completed          88             99             95  \n",
      "996                    none          62             55             55  \n",
      "997               completed          59             71             65  \n",
      "998               completed          68             78             77  \n",
      "999                    none          77             86             86  \n",
      "\n",
      "[1000 rows x 8 columns]\n",
      "- - - - - - - - - - - - - - - - - - - - - - - - - - - - - - - \n"
     ]
    }
   ],
   "source": [
    "import pandas as pd\n",
    "import numpy as np\n",
    "import matplotlib.pyplot as plt\n",
    "import math \n",
    "\n",
    "students_df = pd.read_csv('students.csv')\n",
    "\n",
    "#a1\n",
    "a1 = students_df.describe() \n",
    "print(a1)\n",
    "print('- - - - - - - - - - - - - - - - - - - - - - - - - - - - - - - ')\n",
    "\n",
    "#a2\n",
    "group_a = students_df.groupby('race/ethnicity').count()['gender']['group A']\n",
    "group_b = students_df.groupby('race/ethnicity').count()['gender']['group B']\n",
    "group_c = students_df.groupby('race/ethnicity').count()['gender']['group C']\n",
    "group_d = students_df.groupby('race/ethnicity').count()['gender']['group D']\n",
    "\n",
    "plt.bar('Group A', group_a, color='pink')\n",
    "plt.bar('Group B', group_b, color='lightgreen')\n",
    "plt.bar('Group C', group_c, color='lightyellow')\n",
    "plt.bar('Group D', group_d, color='lightblue')\n",
    "\n",
    "plt.title('The amount of data that exists for each group:')\n",
    "plt.ylabel('Amount')\n",
    "plt.xlabel('Group\\'s')\n",
    "\n",
    "plt.show()\n",
    "print('- - - - - - - - - - - - - - - - - - - - - - - - - - - - - - - ')\n",
    "\n",
    "#a3\n",
    "high_school = len(students_df[students_df['parental level of education'] == 'high school'])\n",
    "some_high_school = len(students_df[students_df['parental level of education'] == 'some high school'])\n",
    "total = len(students_df)\n",
    "\n",
    "print(\"Percentage of students who study in high school in relation to the total data:\",((high_school+some_high_school)/total*100),'%')\n",
    "print('- - - - - - - - - - - - - - - - - - - - - - - - - - - - - - - ')\n",
    "\n",
    "#a4\n",
    "for i in students_df:\n",
    "    print(i+\":\",students_df[i].isnull().values.any())\n",
    "print('- - - - - - - - - - - - - - - - - - - - - - - - - - - - - - - ')\n",
    "\n",
    "#a5\n",
    "a5 = pd.get_dummies(students_df, columns=[\"gender\"])\n",
    "a5.head()\n",
    "print('- - - - - - - - - - - - - - - - - - - - - - - - - - - - - - - ')\n",
    "\n",
    "#a6 - חסר!\n",
    "\n",
    "print('- - - - - - - - - - - - - - - - - - - - - - - - - - - - - - - ')\n",
    "\n",
    "#a7\n",
    "# Rename the columns of df2_melted: df2_tidy\n",
    "a7 = students_df.rename(columns = {'race/ethnicity': 'ethnicity'}, inplace = False)\n",
    "print(a7)\n",
    "print('- - - - - - - - - - - - - - - - - - - - - - - - - - - - - - - ')"
   ]
  },
  {
   "cell_type": "code",
   "execution_count": null,
   "metadata": {},
   "outputs": [],
   "source": []
  }
 ],
 "metadata": {
  "kernelspec": {
   "display_name": "Python 3",
   "language": "python",
   "name": "python3"
  },
  "language_info": {
   "codemirror_mode": {
    "name": "ipython",
    "version": 3
   },
   "file_extension": ".py",
   "mimetype": "text/x-python",
   "name": "python",
   "nbconvert_exporter": "python",
   "pygments_lexer": "ipython3",
   "version": "3.8.3"
  }
 },
 "nbformat": 4,
 "nbformat_minor": 4
}
